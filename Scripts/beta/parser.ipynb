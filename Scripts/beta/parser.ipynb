{
 "cells": [
  {
   "cell_type": "code",
   "execution_count": 1,
   "metadata": {},
   "outputs": [],
   "source": [
    "# imports\n",
    "\n",
    "\n",
    "from http.server import BaseHTTPRequestHandler, HTTPServer\n",
    "import json\n",
    "import _thread\n",
    "import threading\n",
    "import platform\n",
    "\n"
   ]
  },
  {
   "cell_type": "code",
   "execution_count": 2,
   "metadata": {},
   "outputs": [],
   "source": [
    "def MakeHandlerClassFromFilename(filename):\n",
    "    class HandleRequests(BaseHTTPRequestHandler):\n",
    "        def do_POST(self):\n",
    "            try:\n",
    "                content_length = int(self.headers['Content-Length'])\n",
    "                body = self.rfile.read(content_length)\n",
    "                tests = json.loads(body.decode('utf8'))\n",
    "                tests = tests[\"tests\"]\n",
    "                ntests = []\n",
    "                for test in tests:\n",
    "                    ntest = {\n",
    "                        \"test\": test[\"input\"],\n",
    "                        \"correct_answers\": [test[\"output\"].strip()]\n",
    "                    }\n",
    "                    ntests.append(ntest)\n",
    "                nfilename = filename + \":tests\"\n",
    "                if platform.system() == \"Windows\":\n",
    "                    nfilename = filename + \"__tests\"\n",
    "                print(nfilename)\n",
    "                with open(nfilename, \"w\") as f:\n",
    "                    f.write(json.dumps(ntests))\n",
    "            except Exception as e:\n",
    "                print(\"Error handling POST - \" + str(e))\n",
    "            threading.Thread(target=self.server.shutdown, daemon=True).start()\n",
    "    return HandleRequests"
   ]
  },
  {
   "cell_type": "code",
   "execution_count": 5,
   "metadata": {},
   "outputs": [],
   "source": [
    "\n",
    "def startServer(filename):\n",
    "    host = 'localhost'\n",
    "    port = 12345\n",
    "    HandlerClass = MakeHandlerClassFromFilename(filename)\n",
    "    myServer = HTTPServer((host, port), HandlerClass)\n",
    "    myServer.serve_forever()\n",
    "    print(\"Server has been shutdown\")"
   ]
  },
  {
   "cell_type": "code",
   "execution_count": 6,
   "metadata": {},
   "outputs": [
    {
     "name": "stdout",
     "output_type": "stream",
     "text": [
      "hello.cpp__tests\n",
      "Server has been shutdown\n"
     ]
    }
   ],
   "source": [
    "startServer(\"hello.cpp\")"
   ]
  },
  {
   "cell_type": "code",
   "execution_count": null,
   "metadata": {},
   "outputs": [],
   "source": []
  }
 ],
 "metadata": {
  "kernelspec": {
   "display_name": "Python 3",
   "language": "python",
   "name": "python3"
  },
  "language_info": {
   "codemirror_mode": {
    "name": "ipython",
    "version": 3
   },
   "file_extension": ".py",
   "mimetype": "text/x-python",
   "name": "python",
   "nbconvert_exporter": "python",
   "pygments_lexer": "ipython3",
   "version": "3.7.5"
  }
 },
 "nbformat": 4,
 "nbformat_minor": 4
}
