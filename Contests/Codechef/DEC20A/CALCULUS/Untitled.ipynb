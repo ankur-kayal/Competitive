{
 "cells": [
  {
   "cell_type": "code",
   "execution_count": 9,
   "metadata": {},
   "outputs": [
    {
     "name": "stdin",
     "output_type": "stream",
     "text": [
      " 2\n"
     ]
    },
    {
     "name": "stdout",
     "output_type": "stream",
     "text": [
      "665496238\n"
     ]
    }
   ],
   "source": [
    "mod = 998244353\n",
    "\n",
    "n = int(input())\n",
    "a = 2\n",
    "b = 1\n",
    "\n",
    "c = 4\n",
    "d = 6\n",
    "\n",
    "for i in range(1,n):\n",
    "    a = (a * d + b * c) % mod\n",
    "    b = (b * d) % mod\n",
    "    d += 4\n",
    "#     print(a / b)\n",
    "print((a * pow(b,mod-2,mod))% mod)"
   ]
  },
  {
   "cell_type": "code",
   "execution_count": 8,
   "metadata": {},
   "outputs": [
    {
     "name": "stdin",
     "output_type": "stream",
     "text": [
      " 2\n"
     ]
    },
    {
     "name": "stdout",
     "output_type": "stream",
     "text": [
      "665496238\n"
     ]
    }
   ],
   "source": [
    "n = int(input())\n",
    "mod = 998244353\n",
    "if n == 2:\n",
    "    print((8 * pow(3, mod-2, mod)) % mod)\n",
    "else:\n",
    "    print((92 * pow(30, mod-2, mod)) % mod)"
   ]
  }
 ],
 "metadata": {
  "kernelspec": {
   "display_name": "Python 3",
   "language": "python",
   "name": "python3"
  },
  "language_info": {
   "codemirror_mode": {
    "name": "ipython",
    "version": 3
   },
   "file_extension": ".py",
   "mimetype": "text/x-python",
   "name": "python",
   "nbconvert_exporter": "python",
   "pygments_lexer": "ipython3",
   "version": "3.7.5"
  }
 },
 "nbformat": 4,
 "nbformat_minor": 4
}
