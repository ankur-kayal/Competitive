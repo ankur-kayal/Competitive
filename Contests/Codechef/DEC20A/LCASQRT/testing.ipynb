{
 "cells": [
  {
   "cell_type": "code",
   "execution_count": 1,
   "metadata": {},
   "outputs": [],
   "source": [
    "mod = 101"
   ]
  },
  {
   "cell_type": "code",
   "execution_count": 3,
   "metadata": {},
   "outputs": [
    {
     "data": {
      "text/plain": [
       "0"
      ]
     },
     "execution_count": 3,
     "metadata": {},
     "output_type": "execute_result"
    }
   ],
   "source": [
    "(19 + 82) % mod\n"
   ]
  },
  {
   "cell_type": "code",
   "execution_count": 4,
   "metadata": {},
   "outputs": [
    {
     "data": {
      "text/plain": [
       "97"
      ]
     },
     "execution_count": 4,
     "metadata": {},
     "output_type": "execute_result"
    }
   ],
   "source": [
    "(77 + 20) % mod"
   ]
  },
  {
   "cell_type": "code",
   "execution_count": 5,
   "metadata": {},
   "outputs": [
    {
     "data": {
      "text/plain": [
       "0"
      ]
     },
     "execution_count": 5,
     "metadata": {},
     "output_type": "execute_result"
    }
   ],
   "source": [
    "(97 + 4) % mod"
   ]
  },
  {
   "cell_type": "code",
   "execution_count": 6,
   "metadata": {},
   "outputs": [
    {
     "data": {
      "text/plain": [
       "87"
      ]
     },
     "execution_count": 6,
     "metadata": {},
     "output_type": "execute_result"
    }
   ],
   "source": [
    "(43 + 44) % mod"
   ]
  },
  {
   "cell_type": "code",
   "execution_count": 7,
   "metadata": {},
   "outputs": [
    {
     "data": {
      "text/plain": [
       "0"
      ]
     },
     "execution_count": 7,
     "metadata": {},
     "output_type": "execute_result"
    }
   ],
   "source": [
    "(18 + 77 + 82 + 19 + 20 + 43 + 44 + 4 + 97) % mod"
   ]
  },
  {
   "cell_type": "code",
   "execution_count": 15,
   "metadata": {},
   "outputs": [
    {
     "name": "stdout",
     "output_type": "stream",
     "text": [
      "This value of n is a quadratic residue.\n",
      "1\n",
      "Wall time: 0 ns\n"
     ]
    }
   ],
   "source": [
    "%%time\n",
    "# Implementation of the Tonelli-Shanks algoritm as described at:\n",
    "# https://en.wikipedia.org/wiki/Tonelli-Shanks_algorithm\n",
    "\n",
    "\n",
    "\n",
    "# Determines if n is a quadratic residue of an\n",
    "# odd prime p by using Euler's criterion.\n",
    "def is_quadratic_residue(n,p):\n",
    "\tif n % p == 0:\n",
    "\t\treturn True\n",
    "\treturn pow(n, (p - 1)//2, p) == 1\n",
    "\n",
    "\n",
    "# Given an odd prime p and integer n, this is an algorithm to\n",
    "# find a mod-p square root of n when possible\n",
    "def tonelli_shanks(n, p):\n",
    "\t# Case when p|n, so n=0(mod p). The square root of 0 is 0.\n",
    "\tif n % p == 0:\n",
    "\t\treturn 0\n",
    "\n",
    "\t# So assume n is coprime to p.\n",
    "\t# Use Eulers criteria to see if n is a quadratic residue.\n",
    "\tif not is_quadratic_residue(n, p):\n",
    "\t\tprint(\"This value of n is not a quadratic residue.\")\n",
    "\t\treturn None\n",
    "\telse:\n",
    "\t\tprint(\"This value of n is a quadratic residue.\")\n",
    "\n",
    "\t# If p=3(mod 4) and since we know that n is a quadratic residue\n",
    "\t# we can get the square root right now and be done.\n",
    "\tif p % 4 == 3:\n",
    "\t\treturn pow(n, (p + 1)//4, p)\n",
    "\n",
    "\t# So now p=1(mod 4) but this is not used in the algorithm.\n",
    "\t# Write p - 1 = (2^S)Q\n",
    "\tQ = p - 1\n",
    "\tS = 0\n",
    "\twhile Q % 2 == 0:\n",
    "\t\tS += 1\n",
    "\t\tQ //= 2\n",
    "\tprint(\"Q=\", Q)\n",
    "\tprint(\"S=\", S)\n",
    "\n",
    "\t# Find a quadratic non-residue of p by brute force search\n",
    "\tz = 2\n",
    "\twhile is_quadratic_residue(z, p):\n",
    "\t\tz += 1\n",
    "\tprint(\"z=\", z)\n",
    "\n",
    "\t# Initialize variables\n",
    "\tM = S\n",
    "\tc = pow(z, Q, p)\n",
    "\tt = pow(n, Q, p)\n",
    "\tR = pow(n, (Q + 1)//2, p)\n",
    "\n",
    "\tprint(\"M=\", M)\n",
    "\tprint(\"c=\", c)\n",
    "\tprint(\"t=\", t)\n",
    "\tprint(\"R=\", R)\n",
    "\n",
    "\twhile t != 1:\n",
    "\t\tprint(\"Loop\")\n",
    "\n",
    "\t\t# Calculate i\n",
    "\t\ti = 0\n",
    "\t\ttemp = t\n",
    "\t\twhile temp != 1:\n",
    "\t\t\ti += 1\n",
    "\t\t\ttemp = (temp * temp) % p\n",
    "\t\tprint(\"i=\", i)\n",
    "\n",
    "\t\t# Calculate b, M, c, t, R\n",
    "\t\tpow2 = 2 ** (M - i - 1)\n",
    "\t\tb = pow(c, pow2, p)\n",
    "\t\tM = i\n",
    "\t\tc = (b * b) % p\n",
    "\t\tt = (t * b * b) % p\n",
    "\t\tR = (R * b) % p\n",
    "\t\tprint(\"b=\", b)\n",
    "\t\tprint(\"M=\", M)\n",
    "\t\tprint(\"c=\", c)\n",
    "\t\tprint(\"t=\", t)\n",
    "\t\tprint(\"R=\", R)\n",
    "\n",
    "\t# We have found a square root\n",
    "\treturn R\n",
    "\n",
    "# Test\n",
    "\n",
    "print(tonelli_shanks(1,3))\n",
    "\n"
   ]
  }
 ],
 "metadata": {
  "kernelspec": {
   "display_name": "Python 3",
   "language": "python",
   "name": "python3"
  },
  "language_info": {
   "codemirror_mode": {
    "name": "ipython",
    "version": 3
   },
   "file_extension": ".py",
   "mimetype": "text/x-python",
   "name": "python",
   "nbconvert_exporter": "python",
   "pygments_lexer": "ipython3",
   "version": "3.7.5"
  }
 },
 "nbformat": 4,
 "nbformat_minor": 4
}
